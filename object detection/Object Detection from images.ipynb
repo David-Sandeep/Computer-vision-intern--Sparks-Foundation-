{
 "cells": [
  {
   "cell_type": "markdown",
   "id": "a076aeab",
   "metadata": {},
   "source": [
    "## GRIP:THE SPARKS FOUNDATION"
   ]
  },
  {
   "cell_type": "markdown",
   "id": "f216ce77",
   "metadata": {},
   "source": [
    "### COMPUTER VISION AND IOT   INTERN"
   ]
  },
  {
   "cell_type": "markdown",
   "id": "5b923de8",
   "metadata": {},
   "source": [
    "### AUTHOR: DAVID SANDEEP"
   ]
  },
  {
   "cell_type": "markdown",
   "id": "78ec09b2",
   "metadata": {},
   "source": [
    "#### TASK 1: To Implement an object detector which identifies the classes of the objects in an image or video."
   ]
  },
  {
   "cell_type": "code",
   "execution_count": 7,
   "id": "56da1754",
   "metadata": {},
   "outputs": [],
   "source": [
    "import cv2\n",
    "import numpy as np\n",
    "import os\n",
    "\n",
    "# Load Yolo\n",
    "net = cv2.dnn.readNet(\"yolov3.weights\", \"yolov3.cfg\")  \n",
    "\n",
    "# dnn is deep neural network\n",
    "\n",
    "classes = []   \n",
    "\n",
    "with open(\"coco.names\", \"r\") as f:      \n",
    "\n",
    "    classes = [line.strip() for line in f.readlines()]  \n",
    "\n",
    "# Loaded classes from coco file"
   ]
  },
  {
   "cell_type": "code",
   "execution_count": 8,
   "id": "d8e6ca1a",
   "metadata": {},
   "outputs": [],
   "source": [
    "\n",
    "\n",
    "layer_names = net.getLayerNames()\n",
    "\n",
    "output_layers = [layer_names[i[0] - 1] for i in net.getUnconnectedOutLayers()]\n",
    "\n",
    "# with output layer we get detection of objects.\n",
    "\n",
    "colors = np.random.uniform(0, 255, size=(len(classes), 3))\n"
   ]
  },
  {
   "cell_type": "code",
   "execution_count": 9,
   "id": "3dc58ca7",
   "metadata": {},
   "outputs": [],
   "source": [
    "def detecter(image,image_name):\n",
    "    # Loading image\n",
    "    img = cv2.imread(image)   \n",
    "\n",
    "    height, width, channels = img.shape\n",
    "\n",
    "    # Detecting objects\n",
    "\n",
    "    blob = cv2.dnn.blobFromImage(img, 0.00392, (416, 416), (0, 0, 0), True, crop=False)  \n",
    "\n",
    "    # True refers to converting into rgb format since opencv uses bgr.\n",
    "\n",
    "    net.setInput(blob)  \n",
    "\n",
    "    # Passing blob image to yolo algo in network\n",
    "\n",
    "    outs = net.forward(output_layers)  \n",
    "\n",
    "    # Giving network to output layer for final result.\n",
    "    # Showing informations on the screen\n",
    "\n",
    "    class_ids = []\n",
    "\n",
    "    confidences = []\n",
    "\n",
    "    boxes = []\n",
    "\n",
    "    for out in outs:\n",
    "\n",
    "        for detection in out:\n",
    "\n",
    "            scores = detection[5:]\n",
    "\n",
    "            class_id = np.argmax(scores)\n",
    "\n",
    "            confidence = scores[class_id]\n",
    "\n",
    "            if confidence > 0.5:\n",
    "\n",
    "                # Object detected\n",
    "\n",
    "                center_x = int(detection[0] * width)\n",
    "\n",
    "                center_y = int(detection[1] * height)\n",
    "\n",
    "                w = int(detection[2] * width)\n",
    "\n",
    "                h = int(detection[3] * height)\n",
    "\n",
    "                # Rectangle coordinates\n",
    "\n",
    "                x = int(center_x - w / 2)\n",
    "\n",
    "                y = int(center_y - h / 2)\n",
    "\n",
    "                boxes.append([x, y, w, h])\n",
    "\n",
    "                confidences.append(float(confidence))\n",
    "\n",
    "                class_ids.append(class_id)\n",
    "    \n",
    "    indexes = cv2.dnn.NMSBoxes(boxes, confidences, 0.5, 0.4) \n",
    "\n",
    "    # NMS - non max supression\n",
    "\n",
    "    #print(indexes)\n",
    "\n",
    "    font = cv2.FONT_HERSHEY_PLAIN\n",
    "\n",
    "    for i in range(len(boxes)):\n",
    "\n",
    "        if i in indexes:\n",
    "\n",
    "            x, y, w, h = boxes[i]\n",
    "\n",
    "            label = str(classes[class_ids[i]])\n",
    "\n",
    "            color = colors[i]\n",
    "\n",
    "            cv2.rectangle(img, (x, y), (x + w, y + h), color, 2) \n",
    "\n",
    "            # Draw rectangle around boxes. '2' is the width of box.\n",
    "\n",
    "            cv2.putText(img, label, (x, y + 30), font, 3, color, 3)\n",
    "\n",
    "            # Text in Box to label the object\n",
    "    cv2.imshow(\"Image\", cv2.resize(img, (960, 540))) \n",
    "    cv2.imwrite(image_name, img)\n",
    "    cv2.waitKey(0) \n",
    "\n",
    "     # waitkey stops the output\n",
    "\n",
    "    cv2.destroyAllWindows()"
   ]
  },
  {
   "cell_type": "code",
   "execution_count": 10,
   "id": "c9b05e6d",
   "metadata": {},
   "outputs": [],
   "source": [
    "#using detector function on images\n",
    "IMAGE_DIRECTORY='images'\n",
    "for image_name in os.listdir(IMAGE_DIRECTORY):\n",
    "    image=os.path.join(IMAGE_DIRECTORY, image_name)\n",
    "    detecter(image,image_name)\n",
    "    "
   ]
  },
  {
   "cell_type": "code",
   "execution_count": null,
   "id": "02f1c6a1",
   "metadata": {},
   "outputs": [],
   "source": []
  }
 ],
 "metadata": {
  "kernelspec": {
   "display_name": "Python 3",
   "language": "python",
   "name": "python3"
  },
  "language_info": {
   "codemirror_mode": {
    "name": "ipython",
    "version": 3
   },
   "file_extension": ".py",
   "mimetype": "text/x-python",
   "name": "python",
   "nbconvert_exporter": "python",
   "pygments_lexer": "ipython3",
   "version": "3.8.11"
  }
 },
 "nbformat": 4,
 "nbformat_minor": 5
}
